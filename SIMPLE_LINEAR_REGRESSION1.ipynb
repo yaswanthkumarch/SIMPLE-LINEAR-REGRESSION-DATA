{
  "nbformat": 4,
  "nbformat_minor": 0,
  "metadata": {
    "colab": {
      "name": "SIMPLE LINEAR  REGRESSION1.ipynb",
      "provenance": [],
      "collapsed_sections": [],
      "authorship_tag": "ABX9TyNG7LRf0UaYYaZRPvvwtLj4",
      "include_colab_link": true
    },
    "kernelspec": {
      "name": "python3",
      "display_name": "Python 3"
    },
    "language_info": {
      "name": "python"
    }
  },
  "cells": [
    {
      "cell_type": "markdown",
      "metadata": {
        "id": "view-in-github",
        "colab_type": "text"
      },
      "source": [
        "<a href=\"https://colab.research.google.com/github/yaswanthkumarch/SIMPLE-LINEAR-REGRESSION-DATA/blob/main/SIMPLE_LINEAR_REGRESSION1.ipynb\" target=\"_parent\"><img src=\"https://colab.research.google.com/assets/colab-badge.svg\" alt=\"Open In Colab\"/></a>"
      ]
    },
    {
      "cell_type": "markdown",
      "source": [
        "WORKING WITH SIMPLE LINEAR REGRESSION DATA "
      ],
      "metadata": {
        "id": "Y2ozSOvG9ZK0"
      }
    },
    {
      "cell_type": "code",
      "execution_count": null,
      "metadata": {
        "id": "2ntXBjW78xJu"
      },
      "outputs": [],
      "source": [
        "%load_ext rpy2.ipython\n"
      ]
    },
    {
      "cell_type": "code",
      "source": [
        "%%R\n",
        "library(readr)\n",
        "library(dplyr)\n",
        "library(ggplot2)\n",
        "library(tidyr)"
      ],
      "metadata": {
        "colab": {
          "base_uri": "https://localhost:8080/"
        },
        "id": "pfk5bSxA86s9",
        "outputId": "79ab3112-2959-44e9-b397-066f147fbf85"
      },
      "execution_count": null,
      "outputs": [
        {
          "output_type": "stream",
          "name": "stderr",
          "text": [
            "R[write to console]: \n",
            "Attaching package: ‘dplyr’\n",
            "\n",
            "\n",
            "R[write to console]: The following objects are masked from ‘package:stats’:\n",
            "\n",
            "    filter, lag\n",
            "\n",
            "\n",
            "R[write to console]: The following objects are masked from ‘package:base’:\n",
            "\n",
            "    intersect, setdiff, setequal, union\n",
            "\n",
            "\n"
          ]
        }
      ]
    },
    {
      "cell_type": "code",
      "source": [
        "%%R\n",
        "salary=read_csv(\"/content/Salary_Data.csv\")\n",
        "print(salary)"
      ],
      "metadata": {
        "colab": {
          "base_uri": "https://localhost:8080/"
        },
        "id": "LpjjwcCg9UkG",
        "outputId": "37f550ab-1c58-4be4-cf4c-c5fa3bb739d7"
      },
      "execution_count": null,
      "outputs": [
        {
          "output_type": "stream",
          "name": "stdout",
          "text": [
            "Rows: 30 Columns: 2\n",
            "── Column specification ────────────────────────────────────────────────────────\n",
            "Delimiter: \",\"\n",
            "dbl (2): YearsExperience, Salary\n",
            "\n",
            "ℹ Use `spec()` to retrieve the full column specification for this data.\n",
            "ℹ Specify the column types or set `show_col_types = FALSE` to quiet this message.\n",
            "# A tibble: 30 × 2\n",
            "   YearsExperience Salary\n",
            "             <dbl>  <dbl>\n",
            " 1             1.1  39343\n",
            " 2             1.3  46205\n",
            " 3             1.5  37731\n",
            " 4             2    43525\n",
            " 5             2.2  39891\n",
            " 6             2.9  56642\n",
            " 7             3    60150\n",
            " 8             3.2  54445\n",
            " 9             3.2  64445\n",
            "10             3.7  57189\n",
            "# … with 20 more rows\n"
          ]
        }
      ]
    },
    {
      "cell_type": "code",
      "source": [
        "%%R\n",
        "print(salary)\n"
      ],
      "metadata": {
        "colab": {
          "base_uri": "https://localhost:8080/"
        },
        "id": "TvCrhO_Q9-M-",
        "outputId": "cbe90108-7a87-4ea3-e00c-8e74c562f5ae"
      },
      "execution_count": null,
      "outputs": [
        {
          "output_type": "stream",
          "name": "stdout",
          "text": [
            "# A tibble: 30 × 2\n",
            "   YearsExperience Salary\n",
            "             <dbl>  <dbl>\n",
            " 1             1.1  39343\n",
            " 2             1.3  46205\n",
            " 3             1.5  37731\n",
            " 4             2    43525\n",
            " 5             2.2  39891\n",
            " 6             2.9  56642\n",
            " 7             3    60150\n",
            " 8             3.2  54445\n",
            " 9             3.2  64445\n",
            "10             3.7  57189\n",
            "# … with 20 more rows\n"
          ]
        }
      ]
    },
    {
      "cell_type": "code",
      "source": [
        "%%R\n",
        "print(salary$YearsExperience)\n",
        "print(salary$Salary)"
      ],
      "metadata": {
        "colab": {
          "base_uri": "https://localhost:8080/"
        },
        "id": "WiDoDT4U-JG-",
        "outputId": "0803700e-8141-4169-a849-2742d9287185"
      },
      "execution_count": null,
      "outputs": [
        {
          "output_type": "stream",
          "name": "stdout",
          "text": [
            " [1]  1.1  1.3  1.5  2.0  2.2  2.9  3.0  3.2  3.2  3.7  3.9  4.0  4.0  4.1  4.5\n",
            "[16]  4.9  5.1  5.3  5.9  6.0  6.8  7.1  7.9  8.2  8.7  9.0  9.5  9.6 10.3 10.5\n",
            " [1]  39343  46205  37731  43525  39891  56642  60150  54445  64445  57189\n",
            "[11]  63218  55794  56957  57081  61111  67938  66029  83088  81363  93940\n",
            "[21]  91738  98273 101302 113812 109431 105582 116969 112635 122391 121872\n"
          ]
        }
      ]
    },
    {
      "cell_type": "code",
      "source": [
        "from google.colab import drive\n",
        "drive.mount('/content/drive')"
      ],
      "metadata": {
        "id": "Ma7JivRJTtg_"
      },
      "execution_count": null,
      "outputs": []
    },
    {
      "cell_type": "code",
      "source": [
        "%%R\n",
        "cor(salary$Salary,salary$YearsExperience)\n"
      ],
      "metadata": {
        "colab": {
          "base_uri": "https://localhost:8080/"
        },
        "id": "wFLd8eKF-dpe",
        "outputId": "b2213183-9c50-4d4c-a1bd-006186838f45"
      },
      "execution_count": null,
      "outputs": [
        {
          "output_type": "stream",
          "name": "stdout",
          "text": [
            "[1] 0.9782416\n"
          ]
        }
      ]
    },
    {
      "cell_type": "code",
      "source": [
        "%%R\n",
        "relation<-lm(salary$Salary~salary$YearsExperience)\n",
        "print(relation)"
      ],
      "metadata": {
        "colab": {
          "base_uri": "https://localhost:8080/"
        },
        "id": "O06EBtRY_nN-",
        "outputId": "e3ea7e7a-62c5-426a-a686-51d00c42cbfa"
      },
      "execution_count": null,
      "outputs": [
        {
          "output_type": "stream",
          "name": "stdout",
          "text": [
            "\n",
            "Call:\n",
            "lm(formula = salary$Salary ~ salary$YearsExperience)\n",
            "\n",
            "Coefficients:\n",
            "           (Intercept)  salary$YearsExperience  \n",
            "                 25792                    9450  \n",
            "\n"
          ]
        }
      ]
    },
    {
      "cell_type": "code",
      "source": [
        "%%R\n",
        "names(relation)\n"
      ],
      "metadata": {
        "colab": {
          "base_uri": "https://localhost:8080/"
        },
        "id": "ttxIFAmH__--",
        "outputId": "eae89000-d284-40c8-c333-3cb024e37341"
      },
      "execution_count": null,
      "outputs": [
        {
          "output_type": "stream",
          "name": "stdout",
          "text": [
            " [1] \"coefficients\"  \"residuals\"     \"effects\"       \"rank\"         \n",
            " [5] \"fitted.values\" \"assign\"        \"qr\"            \"df.residual\"  \n",
            " [9] \"xlevels\"       \"call\"          \"terms\"         \"model\"        \n"
          ]
        }
      ]
    },
    {
      "cell_type": "code",
      "source": [
        "%%R\n",
        "str(relation)\n",
        "relation$coefficients\n",
        "c=relation$coefficients[2]\n",
        "print(c)"
      ],
      "metadata": {
        "colab": {
          "base_uri": "https://localhost:8080/"
        },
        "id": "5zMiVeM0BzNO",
        "outputId": "809815ad-335e-4507-afd8-1fff542f11e8"
      },
      "execution_count": null,
      "outputs": [
        {
          "output_type": "stream",
          "name": "stdout",
          "text": [
            "List of 12\n",
            " $ coefficients : Named num [1:2] 25792 9450\n",
            "  ..- attr(*, \"names\")= chr [1:2] \"(Intercept)\" \"salary$YearsExperience\"\n",
            " $ residuals    : Named num [1:30] 3156 8128 -2236 -1167 -6691 ...\n",
            "  ..- attr(*, \"names\")= chr [1:30] \"1\" \"2\" \"3\" \"4\" ...\n",
            " $ effects      : Named num [1:30] -416286 144419 -4019 -2746 -8188 ...\n",
            "  ..- attr(*, \"names\")= chr [1:30] \"(Intercept)\" \"salary$YearsExperience\" \"\" \"\" ...\n",
            " $ rank         : int 2\n",
            " $ fitted.values: Named num [1:30] 36187 38077 39967 44692 46582 ...\n",
            "  ..- attr(*, \"names\")= chr [1:30] \"1\" \"2\" \"3\" \"4\" ...\n",
            " $ assign       : int [1:2] 0 1\n",
            " $ qr           :List of 5\n",
            "  ..$ qr   : num [1:30, 1:2] -5.477 0.183 0.183 0.183 0.183 ...\n",
            "  .. ..- attr(*, \"dimnames\")=List of 2\n",
            "  .. .. ..$ : chr [1:30] \"1\" \"2\" \"3\" \"4\" ...\n",
            "  .. .. ..$ : chr [1:2] \"(Intercept)\" \"salary$YearsExperience\"\n",
            "  .. ..- attr(*, \"assign\")= int [1:2] 0 1\n",
            "  ..$ qraux: num [1:2] 1.18 1.22\n",
            "  ..$ pivot: int [1:2] 1 2\n",
            "  ..$ tol  : num 1e-07\n",
            "  ..$ rank : int 2\n",
            "  ..- attr(*, \"class\")= chr \"qr\"\n",
            " $ df.residual  : int 28\n",
            " $ xlevels      : Named list()\n",
            " $ call         : language lm(formula = salary$Salary ~ salary$YearsExperience)\n",
            " $ terms        :Classes 'terms', 'formula'  language salary$Salary ~ salary$YearsExperience\n",
            "  .. ..- attr(*, \"variables\")= language list(salary$Salary, salary$YearsExperience)\n",
            "  .. ..- attr(*, \"factors\")= int [1:2, 1] 0 1\n",
            "  .. .. ..- attr(*, \"dimnames\")=List of 2\n",
            "  .. .. .. ..$ : chr [1:2] \"salary$Salary\" \"salary$YearsExperience\"\n",
            "  .. .. .. ..$ : chr \"salary$YearsExperience\"\n",
            "  .. ..- attr(*, \"term.labels\")= chr \"salary$YearsExperience\"\n",
            "  .. ..- attr(*, \"order\")= int 1\n",
            "  .. ..- attr(*, \"intercept\")= int 1\n",
            "  .. ..- attr(*, \"response\")= int 1\n",
            "  .. ..- attr(*, \".Environment\")=<environment: R_GlobalEnv> \n",
            "  .. ..- attr(*, \"predvars\")= language list(salary$Salary, salary$YearsExperience)\n",
            "  .. ..- attr(*, \"dataClasses\")= Named chr [1:2] \"numeric\" \"numeric\"\n",
            "  .. .. ..- attr(*, \"names\")= chr [1:2] \"salary$Salary\" \"salary$YearsExperience\"\n",
            " $ model        :'data.frame':\t30 obs. of  2 variables:\n",
            "  ..$ salary$Salary         : num [1:30] 39343 46205 37731 43525 39891 ...\n",
            "  ..$ salary$YearsExperience: num [1:30] 1.1 1.3 1.5 2 2.2 2.9 3 3.2 3.2 3.7 ...\n",
            "  ..- attr(*, \"terms\")=Classes 'terms', 'formula'  language salary$Salary ~ salary$YearsExperience\n",
            "  .. .. ..- attr(*, \"variables\")= language list(salary$Salary, salary$YearsExperience)\n",
            "  .. .. ..- attr(*, \"factors\")= int [1:2, 1] 0 1\n",
            "  .. .. .. ..- attr(*, \"dimnames\")=List of 2\n",
            "  .. .. .. .. ..$ : chr [1:2] \"salary$Salary\" \"salary$YearsExperience\"\n",
            "  .. .. .. .. ..$ : chr \"salary$YearsExperience\"\n",
            "  .. .. ..- attr(*, \"term.labels\")= chr \"salary$YearsExperience\"\n",
            "  .. .. ..- attr(*, \"order\")= int 1\n",
            "  .. .. ..- attr(*, \"intercept\")= int 1\n",
            "  .. .. ..- attr(*, \"response\")= int 1\n",
            "  .. .. ..- attr(*, \".Environment\")=<environment: R_GlobalEnv> \n",
            "  .. .. ..- attr(*, \"predvars\")= language list(salary$Salary, salary$YearsExperience)\n",
            "  .. .. ..- attr(*, \"dataClasses\")= Named chr [1:2] \"numeric\" \"numeric\"\n",
            "  .. .. .. ..- attr(*, \"names\")= chr [1:2] \"salary$Salary\" \"salary$YearsExperience\"\n",
            " - attr(*, \"class\")= chr \"lm\"\n",
            "salary$YearsExperience \n",
            "              9449.962 \n"
          ]
        }
      ]
    },
    {
      "cell_type": "code",
      "source": [
        "%%R\n",
        "c=relation$coefficients[1]\n",
        "m=relation$coefficients[2]\n",
        "print(c)\n",
        "print(m)"
      ],
      "metadata": {
        "colab": {
          "base_uri": "https://localhost:8080/"
        },
        "id": "k4eXGFP9CI2e",
        "outputId": "f5515728-71a5-4e87-efe6-bc5d234976da"
      },
      "execution_count": null,
      "outputs": [
        {
          "output_type": "stream",
          "name": "stdout",
          "text": [
            "(Intercept) \n",
            "    25792.2 \n",
            "salary$YearsExperience \n",
            "              9449.962 \n"
          ]
        }
      ]
    },
    {
      "cell_type": "code",
      "source": [
        "%%R\n",
        "y=m*10+c\n",
        "print(y)"
      ],
      "metadata": {
        "colab": {
          "base_uri": "https://localhost:8080/"
        },
        "id": "nPsbGSTiD2V-",
        "outputId": "b8ed04a5-0821-4327-cef4-b6b43a32677f"
      },
      "execution_count": null,
      "outputs": [
        {
          "output_type": "stream",
          "name": "stdout",
          "text": [
            "salary$YearsExperience \n",
            "              120291.8 \n"
          ]
        }
      ]
    },
    {
      "cell_type": "code",
      "source": [
        "%%R\n",
        "y=m*salary$YearsExperience+c\n",
        "print(y)\n",
        "salary1<-mutate(salary,predicted=y)\n",
        "salary2<-mutate(salary1,difference=salary-predicted)\n",
        "print(salary1)\n",
        "print(salary2)"
      ],
      "metadata": {
        "colab": {
          "base_uri": "https://localhost:8080/"
        },
        "id": "vqLSSfEUETUw",
        "outputId": "abea07fd-6199-42d0-cbdb-770a9b5b0975"
      },
      "execution_count": null,
      "outputs": [
        {
          "output_type": "stream",
          "name": "stdout",
          "text": [
            " [1]  36187.16  38077.15  39967.14  44692.12  46582.12  53197.09  54142.09\n",
            " [8]  56032.08  56032.08  60757.06  62647.05  63592.05  63592.05  64537.05\n",
            "[15]  68317.03  72097.02  73987.01  75877.00  81546.98  82491.97  90051.94\n",
            "[22]  92886.93 100446.90 103281.89 108006.87 110841.86 115566.84 116511.84\n",
            "[29] 123126.81 125016.80\n",
            "# A tibble: 30 × 3\n",
            "   YearsExperience Salary predicted\n",
            "             <dbl>  <dbl>     <dbl>\n",
            " 1             1.1  39343    36187.\n",
            " 2             1.3  46205    38077.\n",
            " 3             1.5  37731    39967.\n",
            " 4             2    43525    44692.\n",
            " 5             2.2  39891    46582.\n",
            " 6             2.9  56642    53197.\n",
            " 7             3    60150    54142.\n",
            " 8             3.2  54445    56032.\n",
            " 9             3.2  64445    56032.\n",
            "10             3.7  57189    60757.\n",
            "# … with 20 more rows\n",
            "# A tibble: 30 × 4\n",
            "   YearsExperience Salary predicted difference$YearsExperience $Salary\n",
            "             <dbl>  <dbl>     <dbl>                      <dbl>   <dbl>\n",
            " 1             1.1  39343    36187.                    -36186.   3156.\n",
            " 2             1.3  46205    38077.                    -38076.   8128.\n",
            " 3             1.5  37731    39967.                    -39966.  -2236.\n",
            " 4             2    43525    44692.                    -44690.  -1167.\n",
            " 5             2.2  39891    46582.                    -46580.  -6691.\n",
            " 6             2.9  56642    53197.                    -53194.   3445.\n",
            " 7             3    60150    54142.                    -54139.   6008.\n",
            " 8             3.2  54445    56032.                    -56029.  -1587.\n",
            " 9             3.2  64445    56032.                    -56029.   8413.\n",
            "10             3.7  57189    60757.                    -60753.  -3568.\n",
            "# … with 20 more rows\n"
          ]
        }
      ]
    },
    {
      "cell_type": "code",
      "source": [
        "%%R\n",
        "plot(salary$YearsExperience,salary$Salary,\n",
        "     main=\"REGRESSION FOR YEARS OF EXPERIENCE AND SALARY\",\n",
        "     xlab=\"YearsExperence\",ylab=\"SALARY\")\n",
        "abline(relation,col=\"red\")"
      ],
      "metadata": {
        "colab": {
          "base_uri": "https://localhost:8080/",
          "height": 496
        },
        "id": "NQ8m75jHKINu",
        "outputId": "b358da93-8d9a-44da-bc91-177f34649243"
      },
      "execution_count": null,
      "outputs": [
        {
          "output_type": "display_data",
          "data": {
            "image/png": "[encoded data removed]"
          },
          "metadata": {}
        }
      ]
    },
    {
      "cell_type": "code",
      "source": [
        ""
      ],
      "metadata": {
        "id": "L3pqh2Q_KNGu"
      },
      "execution_count": null,
      "outputs": []
    }
  ]
}